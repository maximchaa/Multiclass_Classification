{
 "cells": [
  {
   "cell_type": "code",
   "execution_count": 1,
   "metadata": {},
   "outputs": [],
   "source": [
    "import numpy as np\n",
    "import pandas as pd\n",
    "import matplotlib.pyplot as plt\n",
    "import seaborn as sns\n",
    "\n",
    "from datetime import datetime\n",
    "\n",
    "import warnings\n",
    "warnings.filterwarnings(\"ignore\")\n",
    "\n",
    "from IPython.display import Markdown\n",
    "def bold(string):\n",
    "    display(Markdown(string))\n",
    "    \n",
    "from sklearn.metrics import log_loss\n",
    "from sklearn.preprocessing import LabelEncoder, OneHotEncoder\n",
    "from sklearn.model_selection import train_test_split, cross_val_score, KFold\n",
    "\n",
    "from sklearn.linear_model import LogisticRegression\n",
    "from catboost import CatBoostClassifier"
   ]
  },
  {
   "cell_type": "code",
   "execution_count": 2,
   "metadata": {},
   "outputs": [],
   "source": [
    "train = pd.read_csv(r'.\\Data\\problem_train.csv')\n",
    "test = pd.read_csv(r'.\\Data\\problem_test.csv')\n",
    "\n",
    "labels = pd.read_csv(r'.\\Data\\problem_labels.csv')"
   ]
  },
  {
   "cell_type": "code",
   "execution_count": 3,
   "metadata": {},
   "outputs": [
    {
     "name": "stdout",
     "output_type": "stream",
     "text": [
      "[]\n",
      "[]\n"
     ]
    },
    {
     "data": {
      "text/plain": [
       "True"
      ]
     },
     "execution_count": 3,
     "metadata": {},
     "output_type": "execute_result"
    }
   ],
   "source": [
    "train = train.drop('id', axis=1)\n",
    "test = test.drop('id', axis=1)\n",
    "labels = labels.drop('id', axis=1)\n",
    "\n",
    "\n",
    "train_nas = train.iloc[:, list(train.isnull().sum() / len(train) * 100 == 100)].columns\n",
    "test_nas = test.iloc[:, list(test.isnull().sum() / len(test) * 100 == 100)].columns\n",
    "nas_cols = list(set(train_nas) | set(test_nas))\n",
    "\n",
    "train = train.drop(nas_cols, axis=1)\n",
    "test = test.drop(nas_cols, axis=1)\n",
    "\n",
    "\n",
    "train_dropped = []\n",
    "for col in train.columns:\n",
    "    if (train[col].isnull().sum() <= 1000) & (len(train[col].value_counts()) == 1) or \\\n",
    "        (train[col].isnull().sum() == train.shape[0]):\n",
    "            train_dropped.append(col)\n",
    "            train = train.drop(col, axis=1)\n",
    "            \n",
    "test_dropped = []\n",
    "for col in test.columns:\n",
    "    if (test[col].isnull().sum() <= 1000) & (len(test[col].value_counts()) == 1) or \\\n",
    "        (test[col].isnull().sum() == test.shape[0]):\n",
    "            test_dropped.append(col)\n",
    "            test = test.drop(col, axis=1)\n",
    "            \n",
    "            \n",
    "cols_to_drop = []\n",
    "for col in train.columns:\n",
    "    if len(train[col].value_counts()) == 1:\n",
    "        if train[col].value_counts()[train[col].value_counts().keys()[0]] == train.shape[0]:\n",
    "            cols_to_drop.append(col)\n",
    "print(cols_to_drop)\n",
    "\n",
    "cols_to_drop = []\n",
    "for col in test.columns:\n",
    "    if len(test[col].value_counts()) == 1:\n",
    "        if test[col].value_counts()[test[col].value_counts().keys()[0]] == test.shape[0]:\n",
    "            cols_to_drop.append(col)\n",
    "print(cols_to_drop)\n",
    "            \n",
    "sorted(train.columns) == sorted(test.columns)"
   ]
  },
  {
   "cell_type": "code",
   "execution_count": 4,
   "metadata": {},
   "outputs": [],
   "source": [
    "train_noNas = list(train.iloc[:, list(train.isnull().any() == False)].columns)\n",
    "test_noNas = list(test.iloc[:, list(test.isnull().any() == False)].columns)\n",
    "noNAs = list(set(train_noNas) & set(test_noNas))\n",
    "\n",
    "numerics = ['int16', 'int32', 'int64', 'float16', 'float32', 'float64']"
   ]
  },
  {
   "cell_type": "markdown",
   "metadata": {},
   "source": [
    "---"
   ]
  },
  {
   "cell_type": "markdown",
   "metadata": {},
   "source": [
    "## Model I.1"
   ]
  },
  {
   "cell_type": "markdown",
   "metadata": {},
   "source": [
    "Давайте посмотрим, что будет, если NaNs заменить 0мя или '' (в зависимости от типа), на веса лог регресии это не повлияет (но catboost все же тоже протестируем)."
   ]
  },
  {
   "cell_type": "code",
   "execution_count": 5,
   "metadata": {},
   "outputs": [
    {
     "data": {
      "text/html": [
       "<div>\n",
       "<style scoped>\n",
       "    .dataframe tbody tr th:only-of-type {\n",
       "        vertical-align: middle;\n",
       "    }\n",
       "\n",
       "    .dataframe tbody tr th {\n",
       "        vertical-align: top;\n",
       "    }\n",
       "\n",
       "    .dataframe thead th {\n",
       "        text-align: right;\n",
       "    }\n",
       "</style>\n",
       "<table border=\"1\" class=\"dataframe\">\n",
       "  <thead>\n",
       "    <tr style=\"text-align: right;\">\n",
       "      <th></th>\n",
       "      <th>release</th>\n",
       "      <th>n_0000</th>\n",
       "      <th>n_0001</th>\n",
       "      <th>n_0002</th>\n",
       "      <th>n_0003</th>\n",
       "      <th>n_0004</th>\n",
       "      <th>n_0005</th>\n",
       "      <th>n_0006</th>\n",
       "      <th>n_0007</th>\n",
       "      <th>n_0009</th>\n",
       "      <th>...</th>\n",
       "      <th>c_1366</th>\n",
       "      <th>c_1367</th>\n",
       "      <th>c_1369</th>\n",
       "      <th>c_1370</th>\n",
       "      <th>c_1372</th>\n",
       "      <th>c_1373</th>\n",
       "      <th>c_1374</th>\n",
       "      <th>c_1375</th>\n",
       "      <th>c_1376</th>\n",
       "      <th>c_1377</th>\n",
       "    </tr>\n",
       "  </thead>\n",
       "  <tbody>\n",
       "    <tr>\n",
       "      <th>0</th>\n",
       "      <td>a</td>\n",
       "      <td>0.0</td>\n",
       "      <td>0.0</td>\n",
       "      <td>0.025449</td>\n",
       "      <td>0.0</td>\n",
       "      <td>0.0</td>\n",
       "      <td>0.368421</td>\n",
       "      <td>0.0</td>\n",
       "      <td>0.0</td>\n",
       "      <td>0.0</td>\n",
       "      <td>...</td>\n",
       "      <td></td>\n",
       "      <td></td>\n",
       "      <td></td>\n",
       "      <td></td>\n",
       "      <td>a</td>\n",
       "      <td></td>\n",
       "      <td>q</td>\n",
       "      <td></td>\n",
       "      <td></td>\n",
       "      <td></td>\n",
       "    </tr>\n",
       "    <tr>\n",
       "      <th>1</th>\n",
       "      <td>a</td>\n",
       "      <td>0.0</td>\n",
       "      <td>0.0</td>\n",
       "      <td>0.031297</td>\n",
       "      <td>0.0</td>\n",
       "      <td>0.0</td>\n",
       "      <td>0.315789</td>\n",
       "      <td>0.0</td>\n",
       "      <td>0.0</td>\n",
       "      <td>0.0</td>\n",
       "      <td>...</td>\n",
       "      <td></td>\n",
       "      <td></td>\n",
       "      <td></td>\n",
       "      <td>a</td>\n",
       "      <td>a</td>\n",
       "      <td></td>\n",
       "      <td></td>\n",
       "      <td></td>\n",
       "      <td></td>\n",
       "      <td></td>\n",
       "    </tr>\n",
       "    <tr>\n",
       "      <th>2</th>\n",
       "      <td>a</td>\n",
       "      <td>0.0</td>\n",
       "      <td>0.0</td>\n",
       "      <td>0.024475</td>\n",
       "      <td>0.0</td>\n",
       "      <td>0.0</td>\n",
       "      <td>0.342105</td>\n",
       "      <td>0.0</td>\n",
       "      <td>0.0</td>\n",
       "      <td>0.0</td>\n",
       "      <td>...</td>\n",
       "      <td></td>\n",
       "      <td></td>\n",
       "      <td></td>\n",
       "      <td>a</td>\n",
       "      <td>a</td>\n",
       "      <td></td>\n",
       "      <td>b</td>\n",
       "      <td></td>\n",
       "      <td></td>\n",
       "      <td></td>\n",
       "    </tr>\n",
       "    <tr>\n",
       "      <th>3</th>\n",
       "      <td>a</td>\n",
       "      <td>0.0</td>\n",
       "      <td>0.0</td>\n",
       "      <td>0.041694</td>\n",
       "      <td>0.0</td>\n",
       "      <td>0.0</td>\n",
       "      <td>0.447368</td>\n",
       "      <td>0.0</td>\n",
       "      <td>0.0</td>\n",
       "      <td>0.0</td>\n",
       "      <td>...</td>\n",
       "      <td></td>\n",
       "      <td></td>\n",
       "      <td></td>\n",
       "      <td></td>\n",
       "      <td>a</td>\n",
       "      <td></td>\n",
       "      <td></td>\n",
       "      <td></td>\n",
       "      <td></td>\n",
       "      <td></td>\n",
       "    </tr>\n",
       "    <tr>\n",
       "      <th>4</th>\n",
       "      <td>c</td>\n",
       "      <td>0.0</td>\n",
       "      <td>0.0</td>\n",
       "      <td>0.038120</td>\n",
       "      <td>0.0</td>\n",
       "      <td>0.0</td>\n",
       "      <td>0.315789</td>\n",
       "      <td>0.0</td>\n",
       "      <td>0.0</td>\n",
       "      <td>0.0</td>\n",
       "      <td>...</td>\n",
       "      <td></td>\n",
       "      <td></td>\n",
       "      <td></td>\n",
       "      <td>b</td>\n",
       "      <td>a</td>\n",
       "      <td></td>\n",
       "      <td>a</td>\n",
       "      <td></td>\n",
       "      <td></td>\n",
       "      <td></td>\n",
       "    </tr>\n",
       "  </tbody>\n",
       "</table>\n",
       "<p>5 rows × 1188 columns</p>\n",
       "</div>"
      ],
      "text/plain": [
       "  release  n_0000  n_0001    n_0002  n_0003  n_0004    n_0005  n_0006  n_0007  \\\n",
       "0       a     0.0     0.0  0.025449     0.0     0.0  0.368421     0.0     0.0   \n",
       "1       a     0.0     0.0  0.031297     0.0     0.0  0.315789     0.0     0.0   \n",
       "2       a     0.0     0.0  0.024475     0.0     0.0  0.342105     0.0     0.0   \n",
       "3       a     0.0     0.0  0.041694     0.0     0.0  0.447368     0.0     0.0   \n",
       "4       c     0.0     0.0  0.038120     0.0     0.0  0.315789     0.0     0.0   \n",
       "\n",
       "   n_0009  ...  c_1366  c_1367  c_1369  c_1370  c_1372  c_1373  c_1374  \\\n",
       "0     0.0  ...                                       a               q   \n",
       "1     0.0  ...                               a       a                   \n",
       "2     0.0  ...                               a       a               b   \n",
       "3     0.0  ...                                       a                   \n",
       "4     0.0  ...                               b       a               a   \n",
       "\n",
       "   c_1375  c_1376  c_1377  \n",
       "0                          \n",
       "1                          \n",
       "2                          \n",
       "3                          \n",
       "4                          \n",
       "\n",
       "[5 rows x 1188 columns]"
      ]
     },
     "execution_count": 5,
     "metadata": {},
     "output_type": "execute_result"
    }
   ],
   "source": [
    "train_zeros = train.copy()\n",
    "\n",
    "numerics = ['int16', 'int32', 'int64', 'float16', 'float32', 'float64']\n",
    "num_cols = train_zeros.select_dtypes(include=numerics).columns\n",
    "train_zeros[num_cols] = train_zeros[num_cols].fillna(0)\n",
    "\n",
    "str_cols = train_zeros.select_dtypes(include='object').columns\n",
    "train_zeros[str_cols] = train_zeros[str_cols].fillna('')\n",
    "\n",
    "train_zeros.head()"
   ]
  },
  {
   "cell_type": "code",
   "execution_count": 6,
   "metadata": {},
   "outputs": [
    {
     "data": {
      "text/plain": [
       "(8000, 6491)"
      ]
     },
     "execution_count": 6,
     "metadata": {},
     "output_type": "execute_result"
    }
   ],
   "source": [
    "train_zeros_ohe = OneHotEncoder(handle_unknown=\"ignore\").fit_transform(train_zeros[str_cols])\n",
    "train_zeros_ohe = pd.DataFrame.sparse.from_spmatrix(train_zeros_ohe)\n",
    "\n",
    "train_zeros = train_zeros.select_dtypes(include=numerics)\n",
    "train_zeros = pd.concat([train_zeros, train_zeros_ohe], axis=1, join=\"inner\")\n",
    "train_zeros.shape"
   ]
  },
  {
   "cell_type": "code",
   "execution_count": 7,
   "metadata": {},
   "outputs": [],
   "source": [
    "lr = LogisticRegression(\n",
    "    solver='lbfgs',\n",
    "    random_state=42,\n",
    "    n_jobs=-1\n",
    ")\n",
    "cbc = CatBoostClassifier(verbose=0)\n",
    "\n",
    "models = {\n",
    "    'LR': lr,\n",
    "    'CB': cbc\n",
    "}\n",
    "predicts = []"
   ]
  },
  {
   "cell_type": "code",
   "execution_count": 8,
   "metadata": {
    "scrolled": true
   },
   "outputs": [
    {
     "name": "stdout",
     "output_type": "stream",
     "text": [
      "LR 0 test logloss = 0.3810\n",
      "LR 1 test logloss = 0.5124\n",
      "LR 2 test logloss = 0.5171\n",
      "LR 3 test logloss = 0.0548\n",
      "LR 4 test logloss = 0.1685\n",
      "LR 5 test logloss = 0.0918\n",
      "LR 6 test logloss = 0.1804\n",
      "LR 7 test logloss = 0.4859\n",
      "LR 8 test logloss = 0.0881\n",
      "LR 9 test logloss = 0.3750\n",
      "LR 10 test logloss = 0.4733\n",
      "LR 11 test logloss = 0.1115\n",
      "LR 12 test logloss = 0.1115\n",
      "LR 13 test logloss = 0.3581\n",
      "\n",
      "LR took 0:06:33.862193\n",
      "---------------\n",
      "LR test multiclass LogLoss = 0.2792\n",
      "\n",
      "\n"
     ]
    }
   ],
   "source": [
    "for m in range(0, len(models)):\n",
    "    model = list(models.values())[m]\n",
    "    model_name = list(models)[m]\n",
    "        \n",
    "    t0 = datetime.utcnow()\n",
    "    \n",
    "    for K in range(0, labels.shape[1]):\n",
    "        cv_values = cross_val_score(\n",
    "            model,\n",
    "            train_zeros,\n",
    "            labels.iloc[:, K],\n",
    "            cv=4,\n",
    "            scoring='neg_log_loss'\n",
    "        )\n",
    "        \n",
    "        predicts.append(-cv_values.max())\n",
    "        print(model_name + \" \" + str(K) + \" test logloss = %.4f\" % predicts[K])\n",
    "            \n",
    "    t1 = datetime.utcnow()\n",
    "    print()\n",
    "    print(model_name + \" took {}\".format(t1 - t0))\n",
    "    \n",
    "    print('---------------')\n",
    "    print(model_name + ' test multiclass LogLoss = %.4f' % (sum(predicts) / len(predicts)))\n",
    "    print('\\n')\n",
    "    predicts.clear()"
   ]
  },
  {
   "cell_type": "markdown",
   "metadata": {},
   "source": [
    "*Google Colab:*\n",
    "<br>CB 0 test logloss = 0.3236\n",
    "<br>CB 1 test logloss = 0.4896\n",
    "<br>CB 2 test logloss = 0.4942\n",
    "<br>CB 3 test logloss = 0.0231\n",
    "<br>CB 4 test logloss = 0.1620\n",
    "<br>CB 5 test logloss = 0.0584\n",
    "<br>CB 6 test logloss = 0.1693\n",
    "<br>CB 7 test logloss = 0.4296\n",
    "<br>CB 8 test logloss = 0.0492\n",
    "<br>CB 9 test logloss = 0.3548\n",
    "<br>CB 10 test logloss = 0.4557\n",
    "<br>CB 11 test logloss = 0.0851\n",
    "<br>CB 12 test logloss = 0.0735\n",
    "<br>CB 13 test logloss = 0.3388\n",
    "\n",
    "CB took 6.6e+03 s\n",
    "<br>---------------\n",
    "<br>CB test multiclass LogLoss = 0.2505"
   ]
  },
  {
   "cell_type": "markdown",
   "metadata": {},
   "source": [
    "Лучшее было:\n",
    "<br>LR test multiclass LogLoss = 0.3107\n",
    "<br>CB test multiclass LogLoss = 0.3156\n",
    "\n",
    "Заметим, что время кратно (на 10^2) увеличилось: количество столбцов все же увеличилось на порядок 10^2.\n",
    "<br>Также в будущем хотелось бы использовать OHE над строковыми столбцами (хотя, может быть, и не над всеми) - дало значительное улучшение метрики."
   ]
  },
  {
   "cell_type": "markdown",
   "metadata": {},
   "source": [
    "---"
   ]
  },
  {
   "cell_type": "markdown",
   "metadata": {},
   "source": [
    "## Model I.2"
   ]
  },
  {
   "cell_type": "code",
   "execution_count": 9,
   "metadata": {},
   "outputs": [
    {
     "data": {
      "text/html": [
       "<div>\n",
       "<style scoped>\n",
       "    .dataframe tbody tr th:only-of-type {\n",
       "        vertical-align: middle;\n",
       "    }\n",
       "\n",
       "    .dataframe tbody tr th {\n",
       "        vertical-align: top;\n",
       "    }\n",
       "\n",
       "    .dataframe thead th {\n",
       "        text-align: right;\n",
       "    }\n",
       "</style>\n",
       "<table border=\"1\" class=\"dataframe\">\n",
       "  <thead>\n",
       "    <tr style=\"text-align: right;\">\n",
       "      <th></th>\n",
       "      <th>release</th>\n",
       "      <th>n_0000</th>\n",
       "      <th>n_0001</th>\n",
       "      <th>n_0002</th>\n",
       "      <th>n_0003</th>\n",
       "      <th>n_0004</th>\n",
       "      <th>n_0005</th>\n",
       "      <th>n_0006</th>\n",
       "      <th>n_0007</th>\n",
       "      <th>n_0009</th>\n",
       "      <th>...</th>\n",
       "      <th>c_1366</th>\n",
       "      <th>c_1367</th>\n",
       "      <th>c_1369</th>\n",
       "      <th>c_1370</th>\n",
       "      <th>c_1372</th>\n",
       "      <th>c_1373</th>\n",
       "      <th>c_1374</th>\n",
       "      <th>c_1375</th>\n",
       "      <th>c_1376</th>\n",
       "      <th>c_1377</th>\n",
       "    </tr>\n",
       "  </thead>\n",
       "  <tbody>\n",
       "    <tr>\n",
       "      <th>0</th>\n",
       "      <td>a</td>\n",
       "      <td>0.0</td>\n",
       "      <td>0.0</td>\n",
       "      <td>0.025449</td>\n",
       "      <td>0.0</td>\n",
       "      <td>0.0</td>\n",
       "      <td>0.368421</td>\n",
       "      <td>0.0</td>\n",
       "      <td>0.0</td>\n",
       "      <td>0.0</td>\n",
       "      <td>...</td>\n",
       "      <td>NaN</td>\n",
       "      <td>NaN</td>\n",
       "      <td>NaN</td>\n",
       "      <td>NaN</td>\n",
       "      <td>a</td>\n",
       "      <td>NaN</td>\n",
       "      <td>q</td>\n",
       "      <td>NaN</td>\n",
       "      <td>NaN</td>\n",
       "      <td>NaN</td>\n",
       "    </tr>\n",
       "    <tr>\n",
       "      <th>1</th>\n",
       "      <td>a</td>\n",
       "      <td>0.0</td>\n",
       "      <td>0.0</td>\n",
       "      <td>0.031297</td>\n",
       "      <td>0.0</td>\n",
       "      <td>0.0</td>\n",
       "      <td>0.315789</td>\n",
       "      <td>0.0</td>\n",
       "      <td>0.0</td>\n",
       "      <td>0.0</td>\n",
       "      <td>...</td>\n",
       "      <td>NaN</td>\n",
       "      <td>NaN</td>\n",
       "      <td>NaN</td>\n",
       "      <td>a</td>\n",
       "      <td>a</td>\n",
       "      <td>NaN</td>\n",
       "      <td>NaN</td>\n",
       "      <td>NaN</td>\n",
       "      <td>NaN</td>\n",
       "      <td>NaN</td>\n",
       "    </tr>\n",
       "    <tr>\n",
       "      <th>2</th>\n",
       "      <td>a</td>\n",
       "      <td>0.0</td>\n",
       "      <td>0.0</td>\n",
       "      <td>0.024475</td>\n",
       "      <td>0.0</td>\n",
       "      <td>0.0</td>\n",
       "      <td>0.342105</td>\n",
       "      <td>0.0</td>\n",
       "      <td>0.0</td>\n",
       "      <td>0.0</td>\n",
       "      <td>...</td>\n",
       "      <td>NaN</td>\n",
       "      <td>NaN</td>\n",
       "      <td>NaN</td>\n",
       "      <td>a</td>\n",
       "      <td>a</td>\n",
       "      <td>NaN</td>\n",
       "      <td>b</td>\n",
       "      <td>NaN</td>\n",
       "      <td>NaN</td>\n",
       "      <td>NaN</td>\n",
       "    </tr>\n",
       "    <tr>\n",
       "      <th>3</th>\n",
       "      <td>a</td>\n",
       "      <td>0.0</td>\n",
       "      <td>0.0</td>\n",
       "      <td>0.041694</td>\n",
       "      <td>0.0</td>\n",
       "      <td>0.0</td>\n",
       "      <td>0.447368</td>\n",
       "      <td>0.0</td>\n",
       "      <td>0.0</td>\n",
       "      <td>0.0</td>\n",
       "      <td>...</td>\n",
       "      <td>NaN</td>\n",
       "      <td>NaN</td>\n",
       "      <td>NaN</td>\n",
       "      <td>NaN</td>\n",
       "      <td>a</td>\n",
       "      <td>NaN</td>\n",
       "      <td>NaN</td>\n",
       "      <td>NaN</td>\n",
       "      <td>NaN</td>\n",
       "      <td>NaN</td>\n",
       "    </tr>\n",
       "    <tr>\n",
       "      <th>4</th>\n",
       "      <td>c</td>\n",
       "      <td>0.0</td>\n",
       "      <td>0.0</td>\n",
       "      <td>0.038120</td>\n",
       "      <td>0.0</td>\n",
       "      <td>0.0</td>\n",
       "      <td>0.315789</td>\n",
       "      <td>0.0</td>\n",
       "      <td>0.0</td>\n",
       "      <td>0.0</td>\n",
       "      <td>...</td>\n",
       "      <td>NaN</td>\n",
       "      <td>NaN</td>\n",
       "      <td>NaN</td>\n",
       "      <td>b</td>\n",
       "      <td>a</td>\n",
       "      <td>NaN</td>\n",
       "      <td>a</td>\n",
       "      <td>NaN</td>\n",
       "      <td>NaN</td>\n",
       "      <td>NaN</td>\n",
       "    </tr>\n",
       "  </tbody>\n",
       "</table>\n",
       "<p>5 rows × 1188 columns</p>\n",
       "</div>"
      ],
      "text/plain": [
       "  release  n_0000  n_0001    n_0002  n_0003  n_0004    n_0005  n_0006  n_0007  \\\n",
       "0       a     0.0     0.0  0.025449     0.0     0.0  0.368421     0.0     0.0   \n",
       "1       a     0.0     0.0  0.031297     0.0     0.0  0.315789     0.0     0.0   \n",
       "2       a     0.0     0.0  0.024475     0.0     0.0  0.342105     0.0     0.0   \n",
       "3       a     0.0     0.0  0.041694     0.0     0.0  0.447368     0.0     0.0   \n",
       "4       c     0.0     0.0  0.038120     0.0     0.0  0.315789     0.0     0.0   \n",
       "\n",
       "   n_0009  ...  c_1366  c_1367  c_1369  c_1370  c_1372  c_1373  c_1374  \\\n",
       "0     0.0  ...     NaN     NaN     NaN     NaN       a     NaN       q   \n",
       "1     0.0  ...     NaN     NaN     NaN       a       a     NaN     NaN   \n",
       "2     0.0  ...     NaN     NaN     NaN       a       a     NaN       b   \n",
       "3     0.0  ...     NaN     NaN     NaN     NaN       a     NaN     NaN   \n",
       "4     0.0  ...     NaN     NaN     NaN       b       a     NaN       a   \n",
       "\n",
       "   c_1375  c_1376  c_1377  \n",
       "0     NaN     NaN     NaN  \n",
       "1     NaN     NaN     NaN  \n",
       "2     NaN     NaN     NaN  \n",
       "3     NaN     NaN     NaN  \n",
       "4     NaN     NaN     NaN  \n",
       "\n",
       "[5 rows x 1188 columns]"
      ]
     },
     "execution_count": 9,
     "metadata": {},
     "output_type": "execute_result"
    }
   ],
   "source": [
    "numerics = ['int16', 'int32', 'int64', 'float16', 'float32', 'float64']\n",
    "num_cols = train.select_dtypes(include=numerics).columns\n",
    "\n",
    "train_zeros = train.copy()\n",
    "train_zeros[num_cols] = train_zeros[num_cols].fillna(0)\n",
    "train_zeros.head()"
   ]
  },
  {
   "cell_type": "code",
   "execution_count": 10,
   "metadata": {},
   "outputs": [
    {
     "data": {
      "text/plain": [
       "(8000, 381)"
      ]
     },
     "execution_count": 10,
     "metadata": {},
     "output_type": "execute_result"
    }
   ],
   "source": [
    "train_zeros = train_zeros.dropna(axis='columns')\n",
    "\n",
    "str_cols = train_zeros.select_dtypes(include='object').columns\n",
    "train_zeros_ohe = OneHotEncoder(handle_unknown=\"ignore\").fit_transform(train_zeros[str_cols])\n",
    "train_zeros_ohe = pd.DataFrame.sparse.from_spmatrix(train_zeros_ohe)\n",
    "\n",
    "train_zeros = train_zeros.select_dtypes(include=numerics)\n",
    "train_zeros = pd.concat([train_zeros, train_zeros_ohe], axis=1, join=\"inner\")\n",
    "train_zeros.shape"
   ]
  },
  {
   "cell_type": "markdown",
   "metadata": {},
   "source": [
    "Заметим, что размерность кратно сократилась по сравнению с Model I.1, так что точно будет хотя бы быстрее."
   ]
  },
  {
   "cell_type": "code",
   "execution_count": 11,
   "metadata": {},
   "outputs": [],
   "source": [
    "lr = LogisticRegression(\n",
    "    solver='lbfgs',\n",
    "    random_state=42,\n",
    "    n_jobs=-1\n",
    ")\n",
    "cbc = CatBoostClassifier(verbose=0)\n",
    "\n",
    "models = {\n",
    "    'LR': lr,\n",
    "    'CB': cbc\n",
    "}\n",
    "predicts = []"
   ]
  },
  {
   "cell_type": "code",
   "execution_count": 12,
   "metadata": {
    "scrolled": true
   },
   "outputs": [
    {
     "name": "stdout",
     "output_type": "stream",
     "text": [
      "LR 0 test logloss = 0.4808\n",
      "LR 1 test logloss = 0.5620\n",
      "LR 2 test logloss = 0.5468\n",
      "LR 3 test logloss = 0.0655\n",
      "LR 4 test logloss = 0.1907\n",
      "LR 5 test logloss = 0.1225\n",
      "LR 6 test logloss = 0.1902\n",
      "LR 7 test logloss = 0.5440\n",
      "LR 8 test logloss = 0.0771\n",
      "LR 9 test logloss = 0.3742\n",
      "LR 10 test logloss = 0.4814\n",
      "LR 11 test logloss = 0.2924\n",
      "LR 12 test logloss = 0.2531\n",
      "LR 13 test logloss = 0.3758\n",
      "\n",
      "LR took 0:00:51.422832\n",
      "---------------\n",
      "LR test multiclass LogLoss = 0.3255\n",
      "\n",
      "\n",
      "CB 0 test logloss = 0.3988\n",
      "CB 1 test logloss = 0.5156\n",
      "CB 2 test logloss = 0.5234\n",
      "CB 3 test logloss = 0.0384\n",
      "CB 4 test logloss = 0.1732\n",
      "CB 5 test logloss = 0.0869\n",
      "CB 6 test logloss = 0.1737\n",
      "CB 7 test logloss = 0.4696\n",
      "CB 8 test logloss = 0.0706\n",
      "CB 9 test logloss = 0.3592\n",
      "CB 10 test logloss = 0.4672\n",
      "CB 11 test logloss = 0.2283\n",
      "CB 12 test logloss = 0.1855\n",
      "CB 13 test logloss = 0.3538\n",
      "\n",
      "CB took 0:05:26.051937\n",
      "---------------\n",
      "CB test multiclass LogLoss = 0.2889\n",
      "\n",
      "\n"
     ]
    }
   ],
   "source": [
    "for m in range(0, len(models)):\n",
    "    model = list(models.values())[m]\n",
    "    model_name = list(models)[m]\n",
    "        \n",
    "    t0 = datetime.utcnow()\n",
    "    \n",
    "    for K in range(0, labels.shape[1]):\n",
    "        cv_values = cross_val_score(\n",
    "            model,\n",
    "            train_zeros,\n",
    "            labels.iloc[:, K],\n",
    "            cv=4,\n",
    "            scoring='neg_log_loss'\n",
    "        )\n",
    "        \n",
    "        predicts.append(-cv_values.max())\n",
    "        print(model_name + \" \" + str(K) + \" test logloss = %.4f\" % predicts[K])\n",
    "            \n",
    "    t1 = datetime.utcnow()\n",
    "    print()\n",
    "    print(model_name + \" took {}\".format(t1 - t0))\n",
    "    \n",
    "    print('---------------')\n",
    "    print(model_name + ' test multiclass LogLoss = %.4f' % (sum(predicts) / len(predicts)))\n",
    "    print('\\n')\n",
    "    predicts.clear()"
   ]
  },
  {
   "cell_type": "markdown",
   "metadata": {},
   "source": [
    "Лучшее было:\n",
    "<br>LR test multiclass LogLoss = 0.2792\n",
    "<br>CB test multiclass LogLoss = 0.2505"
   ]
  },
  {
   "cell_type": "markdown",
   "metadata": {},
   "source": [
    "Видимо, все же не достаточно данных, хотя и получили заметный выигрыш по времени по сравнению с предыдущей моделью (на 10^1 по порядку). Прикольно."
   ]
  },
  {
   "cell_type": "markdown",
   "metadata": {},
   "source": [
    "---"
   ]
  },
  {
   "cell_type": "markdown",
   "metadata": {},
   "source": [
    "## Gap filling: part II"
   ]
  },
  {
   "cell_type": "code",
   "execution_count": 13,
   "metadata": {},
   "outputs": [],
   "source": [
    "from operator import itemgetter "
   ]
  },
  {
   "cell_type": "markdown",
   "metadata": {},
   "source": [
    "Будем смотреть на группу 'n_', где ненулевых >= 1000: поймем, что у них с распределениями, попробуем восстановить плотности и по ним зафиллить NAs. Посмотрим еще в конце на корреляцию. Первый план действий какой-то такой."
   ]
  },
  {
   "cell_type": "code",
   "execution_count": 14,
   "metadata": {},
   "outputs": [],
   "source": [
    "numerics = ['int16', 'int32', 'int64', 'float16', 'float32', 'float64']\n",
    "string = ['str', 'object']\n",
    "\n",
    "n_cols_num_train = []\n",
    "n_cols_str_train = []\n",
    "\n",
    "n_cols_num_test = []\n",
    "n_cols_str_test = []"
   ]
  },
  {
   "cell_type": "code",
   "execution_count": 15,
   "metadata": {},
   "outputs": [],
   "source": [
    "n_cols = []\n",
    "o_cols = []\n",
    "c_cols = []\n",
    "\n",
    "for i in range(0, train.shape[1]):\n",
    "    if ('n_' in train.columns[i]):\n",
    "        n_cols.append(train.columns[i])\n",
    "        \n",
    "    elif ('o_' in train.columns[i]):\n",
    "        o_cols.append(train.columns[i])\n",
    "        \n",
    "    elif ('c_' in train.columns[i]):\n",
    "        c_cols.append(train.columns[i])\n",
    "        \n",
    "        \n",
    "n_cols_test = []\n",
    "o_cols_test = []\n",
    "c_cols_test = []\n",
    "\n",
    "for i in range(0, test.shape[1]):\n",
    "    if ('n_' in test.columns[i]):\n",
    "        n_cols_test.append(test.columns[i])\n",
    "        \n",
    "    elif ('o_' in test.columns[i]):\n",
    "        o_cols_test.append(test.columns[i])\n",
    "        \n",
    "    elif ('c_' in test.columns[i]):\n",
    "        c_cols_test.append(test.columns[i])"
   ]
  },
  {
   "cell_type": "code",
   "execution_count": 16,
   "metadata": {},
   "outputs": [
    {
     "name": "stdout",
     "output_type": "stream",
     "text": [
      "[]\n",
      "[]\n"
     ]
    }
   ],
   "source": [
    "for i in range(0, len(n_cols)):\n",
    "    if train[n_cols[i]].dtype in numerics:\n",
    "        n_cols_num_train.append(n_cols[i])\n",
    "        \n",
    "    elif train[n_cols[i]].dtype in string:\n",
    "        n_cols_str_train.append(n_cols[i])\n",
    "        \n",
    "    else:\n",
    "        print('Error! (1)')\n",
    "        break\n",
    "        \n",
    "        \n",
    "for i in range(0, len(n_cols_test)):\n",
    "    if train[n_cols_test[i]].dtype in numerics:\n",
    "        n_cols_num_test.append(n_cols_test[i])\n",
    "        \n",
    "    elif train[n_cols_test[i]].dtype in string:\n",
    "        n_cols_str_test.append(n_cols_test[i])\n",
    "        \n",
    "    else:\n",
    "        print('Error! (2)')\n",
    "        break\n",
    "        \n",
    "        \n",
    "print(\n",
    "    list(set(n_cols_num_train) - set(n_cols_num_test)),\n",
    "    list(set(n_cols_num_test) - set(n_cols_num_train)),\n",
    "    sep='\\n'\n",
    ")"
   ]
  },
  {
   "cell_type": "code",
   "execution_count": 17,
   "metadata": {},
   "outputs": [
    {
     "name": "stdout",
     "output_type": "stream",
     "text": [
      "True\n",
      "True\n"
     ]
    }
   ],
   "source": [
    "n_cols_num = n_cols_num_train\n",
    "\n",
    "if len(n_cols_num) == len(n_cols):\n",
    "    print('True')\n",
    "    \n",
    "if len(n_cols_num_test) == len(n_cols_test):\n",
    "    print('True')"
   ]
  },
  {
   "cell_type": "code",
   "execution_count": 18,
   "metadata": {},
   "outputs": [
    {
     "name": "stdout",
     "output_type": "stream",
     "text": [
      "37\n",
      "105\n"
     ]
    }
   ],
   "source": [
    "mask = train[n_cols_num].isnull().sum() <= 7000\n",
    "n_cols_num_not_bad = list(train[n_cols_num].columns[mask])\n",
    "\n",
    "print(\n",
    "    len(n_cols_num_not_bad)\n",
    ")\n",
    "\n",
    "\n",
    "mask = test[n_cols_num_test].isnull().sum() <= 7000\n",
    "n_cols_num_not_bad_test = list(test[n_cols_num_test].columns[mask])\n",
    "\n",
    "print(\n",
    "    len(n_cols_num_not_bad_test)\n",
    ")"
   ]
  },
  {
   "cell_type": "markdown",
   "metadata": {},
   "source": [
    "Вообще говоря, не хорошо, но для данного метода пока что все равно."
   ]
  },
  {
   "cell_type": "code",
   "execution_count": 19,
   "metadata": {},
   "outputs": [
    {
     "name": "stdout",
     "output_type": "stream",
     "text": [
      "4\n",
      "4\n"
     ]
    }
   ],
   "source": [
    "mask = train[n_cols_num].isnull().sum() == 0\n",
    "n_cols_num_good = list(train[n_cols_num].columns[mask])\n",
    "\n",
    "print(\n",
    "    len(n_cols_num_good)\n",
    ")\n",
    "\n",
    "\n",
    "mask = test[n_cols_num_test].isnull().sum() == 0\n",
    "n_cols_num_good_test = list(test[n_cols_num_test].columns[mask])\n",
    "\n",
    "print(\n",
    "    len(n_cols_num_good_test)\n",
    ")"
   ]
  },
  {
   "cell_type": "code",
   "execution_count": 20,
   "metadata": {},
   "outputs": [
    {
     "name": "stdout",
     "output_type": "stream",
     "text": [
      "33\n",
      "101\n"
     ]
    }
   ],
   "source": [
    "n_cols_num_not_bad = list(\n",
    "    set(n_cols_num_not_bad) - set(n_cols_num_good)\n",
    ")\n",
    "n_cols_num_not_bad.sort()\n",
    "\n",
    "print(\n",
    "    len(n_cols_num_not_bad)\n",
    ")\n",
    "\n",
    "\n",
    "n_cols_num_not_bad_test = list(\n",
    "    set(n_cols_num_not_bad_test) - set(n_cols_num_good_test)\n",
    ")\n",
    "n_cols_num_not_bad_test.sort()\n",
    "\n",
    "print(\n",
    "    len(n_cols_num_not_bad_test)\n",
    ")"
   ]
  },
  {
   "cell_type": "code",
   "execution_count": 21,
   "metadata": {},
   "outputs": [
    {
     "name": "stdout",
     "output_type": "stream",
     "text": [
      "['n_0067', 'n_0078', 'n_0108', 'n_0109']\n",
      "('n_0066', 'n_0080', 'n_0110')\n",
      "\n",
      "['n_0067', 'n_0078', 'n_0108', 'n_0109']\n",
      "('n_0019', 'n_0022', 'n_0033')\n"
     ]
    }
   ],
   "source": [
    "print(n_cols_num_good)\n",
    "print(itemgetter(*[17, 20, 31])(n_cols_num_not_bad))\n",
    "\n",
    "print()\n",
    "\n",
    "print(n_cols_num_good_test)\n",
    "print(itemgetter(*[17, 20, 31])(n_cols_num_not_bad_test))"
   ]
  },
  {
   "cell_type": "code",
   "execution_count": 22,
   "metadata": {
    "scrolled": true
   },
   "outputs": [
    {
     "data": {
      "image/png": "[encoded data removed]",
      "text/plain": [
       "<Figure size 1080x1656 with 8 Axes>"
      ]
     },
     "metadata": {
      "needs_background": "light"
     },
     "output_type": "display_data"
    }
   ],
   "source": [
    "cols_for_plot = n_cols_num_good + list(itemgetter(*[17, 20, 31])(n_cols_num_not_bad))\n",
    "cols_for_plot.sort()\n",
    "cols_for_plot\n",
    "\n",
    "\n",
    "fig, axes = plt.subplots(nrows = 4, ncols = 2, figsize = (15, 23))\n",
    "\n",
    "for ax, column in zip(axes.flatten(), train[cols_for_plot].columns):\n",
    "    sns.distplot(train[column], ax = ax, color = 'darkred')\n",
    "    \n",
    "    ax.set_title(column, fontsize = 23)\n",
    "    ax.tick_params(axis = 'both', which = 'major', labelsize = 15)\n",
    "    ax.tick_params(axis = 'both', which = 'minor', labelsize = 15)\n",
    "    ax.set_xlabel('')\n",
    "    \n",
    "fig.tight_layout(rect = [0, 0.03, 1, 0.95])"
   ]
  },
  {
   "cell_type": "markdown",
   "metadata": {},
   "source": [
    "Как видим, соседние номера нефига не похожи друг на друга, поэтому зафиллить плохого соседа по подобию хорошего не получится.\n",
    "\n",
    "<br>Но у нас тут номера 8кой на конце совпали по распределениям, проверим."
   ]
  },
  {
   "cell_type": "markdown",
   "metadata": {},
   "source": [
    "Хмм, есть похожие, так даже можно корреляции убрать, но в общем и целом они разные."
   ]
  },
  {
   "cell_type": "markdown",
   "metadata": {},
   "source": [
    "Следующую задачу я бы тогда сформулировал неформально так:\n",
    "<br>у меня есть одномерные эмпирическая плотность / функция распределения (все равно, для чего решать) и теоретическая.\n",
    "<br>Хочется понять, с какого объема $N$ выборки $X[N]$ можно нашу эмпирическую функцию назвать почти похожей на теоретическую.\n",
    "\n",
    "Это позволит нам как раз таки выбрать порог для almost_bad_cols (сейчас он = 1000, но без каких-либо теор обоснований)."
   ]
  },
  {
   "cell_type": "markdown",
   "metadata": {},
   "source": [
    "Попробуем достать из гистограм эмпирические плотности, либо посчитать руками, если не получится готовое достать.\n",
    "<br>Потом найдем $N$ для заданной погрешности и переделим (возможно) колонки на almost_bad и good."
   ]
  },
  {
   "cell_type": "markdown",
   "metadata": {},
   "source": [
    "---"
   ]
  },
  {
   "cell_type": "markdown",
   "metadata": {},
   "source": [
    "### Density Estimation\n",
    "\n",
    "Пусть выборка $X_{[n]} \\sim \\rho$ (какой-то абсолютно - непрерывной плотности). Есть реализованная выборка, как оценить $\\rho$?\n",
    "\n",
    "<br>Мы знаем несмещенную, состоятельную, почти наверное равномерно сходящуюся (т-ма Гливенко — Кантелли) оценку ф.р.: $\\hat{F_n}(x) = \\frac{1}{n} \\sum\\limits_{i=1}^{n} I_{\\{x_i \\leq x \\}}$. <br>Но у этой функции не во всех точках существует производная, а где существует = 0 (не содержательно).\n",
    "\n",
    "Попробуем действовать по определению. $P(a < X \\leq b) = F(b) - F(a) = \\int\\limits_{a}^{b} \\rho(t) dt \\approx h \\rho(x)$, где $a = X - \\frac{h}{2}, \\ b = X + \\frac{b}{2}$. <br>Т.е. $\\rho(X) \\approx \\frac{P(X - \\frac{h}{2} < X \\leq X + \\frac{h}{2})}{h}, h \\rightarrow 0$. Тогда естественно выбрать $\\hat{\\rho_n}(x) = \\frac{\\# \\{i \\ : \\ X - \\frac{h}{2} < X_i \\leq X + \\frac{h}{2} \\}}{n h}$.\n",
    "\n",
    "Отсюда взялась **гистограмма** на выбранных center points $\\{ c_i \\} \\ : \\ \\beta_i := (c_i - \\frac{h}{2}, c_i + \\frac{h}{2}]$ не пересекаются и в объеденении дают область определения. **Гистограмма** - оценка плотности : $\\hat{\\rho_n}(x) = \\frac{1}{nh} \\# \\{i \\ : \\ x_i \\in \\beta_j \\}$.\n",
    "\n",
    "Но, как мы видим, такая оценка зависит от $h$.\n",
    "\n",
    "<br>---\n",
    "\n",
    "<br>Тогда зададимся вопросов: как оценить **близость** уже построенной **$\\hat{\\rho_{n}}(x)$ и $\\rho(x)$**?\n",
    "<br>Естественно вспомнить про квадратичную ошибку: $\\left(\\hat{\\rho_{n}}(x) - \\rho(x) \\right)^{2}$. Но такой объект зависит и от выборки, и от точки $x$.\n",
    "<br>Избавимся от привязки к выборке: $MSE(\\hat{\\rho_{n}}(x)) = {\\rm I\\!E} \\left(\\left(\\hat{\\rho_{n}}(x) - \\rho(x) \\right)^{2}\\right)$, \n",
    "<br>а затем избавимся от привязки к точке $x$: $MISE(\\hat{\\rho_{n}}(x)) = \\int {\\rm I\\!E} \\left(\\left(\\hat{\\rho_{n}}(x) - \\rho(x) \\right)^{2}\\right) dx$.\n",
    "\n",
    "Вспомним про *Bias-Variance Decomposition* и применим сначала для $MSE$, а потом и для $MISE$:\n",
    "<br>$MSE(\\hat{\\rho_{n}}(x)) =  {\\rm I\\!E} \\left[ \\left(\\hat{\\rho_{n}}(x) - {\\rm I\\!E}(\\hat{\\rho_{n}}(x)) + {\\rm I\\!E}(\\hat{\\rho_{n}}(x)) - \\rho(x) \\right)^{2} \\right] = {\\rm I\\!D} (\\hat{\\rho_{n}}(x)) + 2 \\cdot 0 + \\left( {\\rm I\\!E}(\\hat{\\rho_{n}}(x)) - \\rho(x) \\right)^{2} = {\\rm I\\!D} (\\hat{\\rho_{n}}(x)) + Bias^{2} (\\hat{\\rho_{n}}(x))$.\n",
    "<br>$MISE(\\hat{\\rho_{n}}(x)) = \\int Bias^{2} (\\hat{\\rho_{n}}(x)) dx + \\int {\\rm I\\!D} (\\hat{\\rho_{n}}(x)) dx$.\n",
    "<br>Соответственно, выбираем $h$, минимизирующее $MISE$, ибо это мера похожести, а, следовательно, предпочтительны нулевые значения.\n",
    "\n",
    "<br>Для *гистограммы* на $[0, 1]$ имеем: $h_{opt} \\sim n^{-\\frac{1}{3}}, MISE \\sim n^{-\\frac{2}{3}}$; \n",
    "$$ \\ h_{opt} = \\left( \\frac{6}{n \\int\\limits_{0}^{1} (\\rho ' (x))^{2} dx} \\right) ^{\\frac{1}{3}}$$\n",
    "<br>В пакетах основных предполагается, что $\\rho(x) \\sim N(0, \\sigma^{2})$. Тогда $h_{opt} = (24 \\sqrt{n})^{\\frac{1}{3}} \\hat{\\sigma_n} n^{-\\frac{1}{3}}$ - *метод Скотта*.\n",
    "\n",
    "<br>---\n",
    "\n",
    "<br>Передем к **ядерным оценкам** плотности.\n",
    "<br>*Ядра* ${\\rm I\\!K}$ сами по себе являются плотностями, но обычно берут только четные.\n",
    "\n",
    "$$\\hat{\\rho_n}(x) = \\frac{1}{nh} \\sum\\limits_{i=1}^{n} {\\rm I\\!K}\\left( \\frac{x - x_i}{h} \\right)$$\n",
    "\n",
    "$\\frac{|x - x_i|}{h} \\leq 1 \\ \\Rightarrow \\ x_i - h \\leq x \\leq x_i + h$. Суть в том, что в таких окрестностях сумма увеличивается на значение ядра (аналог весов), а на пересечениях окрестностей значение плотности будет наибольшим. Такой метод позволяет учитывать концентрацию точек.\n",
    "\n",
    "${\\rm I\\!E}\\left(\\hat{\\rho_n}(x) \\right) = \\frac{1}{nh} \\sum\\limits_{i=1}^{n} {\\rm I\\!E} \\left[ {\\rm I\\!K}\\left( \\frac{x - x_i}{h} \\right) \\right] = \\frac{1}{nh} \\sum\\limits_{i=1}^{n} {\\rm I\\!K} \\left( \\frac{x-y}{h} \\right) \\rho(y) dy = \\frac{1}{nh} \\sum\\limits_{i=1}^{n} \\int\\limits_{-\\infty}^{+\\infty} {\\rm I\\!K}(u)\\rho(x - uh) h du \\ \\rightarrow_{h \\rightarrow 0} \\ \\frac{1}{n} \\sum\\limits_{i=1}^{n} \\int\\limits_{-\\infty}^{+\\infty} {\\rm I\\!K}(u) \\rho(x) du = \\rho(x)$, \n",
    "<br>где $\\rho(y)$ - истинная (теоретическая) функция плотности. Имеем асимптотически несмещенную оценку теоретической плотности.\n",
    "\n",
    "<br>Применим к *ядерным оценкам* BVD и найдем $h_{opt}$. \n",
    "\n",
    "$$MISE \\left( \\hat{\\rho_n}(x) \\right) = \\left[ \\frac{1}{4} h^{4} + \\int \\left( \\rho(x) \\right)^{2} dx \\cdot \\left( x^{2} {\\rm I\\!K}(x) dx \\right)^{4} + \\frac{1}{nh} \\int {\\rm I\\!K}^{2}(x) dx \\right] \\left[1 + o(1)\\right]$$\n",
    "\n",
    "Первые два слагаемых - интеграл от $Bias^{2} (\\hat{\\rho_n}(x))$, третье слагаемое - интеграл от ${\\rm I\\!D} (\\hat{\\rho_{n}}(x))$.\n",
    "\n",
    "Тогда на $[0, 1]$ имеем: $h_{opt} \\sim n^{-\\frac{1}{5}}, MISE \\sim n^{-\\frac{4}{5}}$; \n",
    "$$ \\ h_{opt} = n^{-\\frac{1}{5}} \\left( \\frac{\\int {\\rm I\\!K}^{2} (x) dx}{\\int {\\rm I\\!K}(x) x^2 dx \\cdot \\int \\left( \\rho '' (x) \\right)^{2} dx} \\right) ^{\\frac{1}{5}}$$\n",
    "<br>В пакетах основных предполагается, что $\\rho(x) \\sim N(0, \\sigma^{2})$ и ${\\rm I\\!K} (x) = \\frac{1}{\\sqrt{2\\pi}} e^{-\\frac{x^{2}}{2}}$. Тогда $h_{opt} = \\left( \\frac{4}{3} \\right)^{\\frac{1}{5}} \\cdot \\min(\\hat{\\sigma_n}, \\frac{IQR}{1.34}) \\cdot n^{-\\frac{1}{5}}$.\n",
    "\n",
    "<br>---\n",
    "\n",
    "<br>**Теорема (Van der Vaart)**:\n",
    "<br>${\\rm I\\!P}_{m}$ - семейство абсолютно - непрерывных плотностей таких, что $\\rho(x)$ $m$-раз дифференцируемо и $\\int\\limits_{-\\infty}^{+\\infty} \\left( \\rho^{(m)}(x) \\right)^{2} dx < \\infty$.\n",
    "<br>Тогда верно следующее: $$\\forall \\hat{\\rho_n}(x)  \\quad \\sup\\limits_{\\rho \\ \\in \\ {\\rm I\\!P}_{m}} {\\rm I\\!E} \\left[ \\int\\limits_{-\\infty}^{+\\infty} \\left( \\hat{\\rho_n}(x) - \\rho(x) \\right)^{2} dx \\right] \\geq C \\cdot n^{-\\frac{2 m}{2 m + 1}}$$\n",
    "<br>Т.е. какую бы мы не взяли оценку $\\hat{\\rho_n}(x)$, она не будет равномерно лучше в смысле ошибки $MISE$ на всем классе ${\\rm I\\!P}_{m}$, чем выражение справа в неравенстве, хотя на отдельных $\\rho(x)$ может давать и меньшую ошибку $MISE$.\n",
    "\n",
    "Тогда имеем, что *гистограмма* лучшая в классе ${\\rm I\\!P}_{1}$, а *ядерные оценки* лучшие в классе ${\\rm I\\!P}_{2}$.\n",
    "\n",
    "<br>---\n",
    "\n",
    "$$MISE(h_{opt}) = \\left[ \\frac{5}{4} n^{-\\frac{4}{5}} \\left( \\int x^{2} {\\rm I\\!K}(x) dx \\right)^{\\frac{2}{5}} \\left( \\int {\\rm I\\!K}^{2}(x) dx \\right)^{\\frac{4}{5}} \\cdot \\int \\left( \\rho(x) \\right)^{2} dx \\right] \\left[1 + o(1) \\right]$$\n",
    "Видим, что хорошо разложилось на множетели только с $ {\\rm I\\!K}(x)$ и только с $\\rho(x)$. Давайте выберем $ {\\rm I\\!K}(x) $ такое, что оно будет минимизировать $MISE$. \n",
    "\n",
    "$$K_{opt} = \\ <ядро \\ Епанечникова> \\ = \\frac{3}{4} \\left( 1 - x^{2} \\right) I_{\\{ |x| \\leq 1 \\}}$$ \n",
    "\n",
    "Но на самом деле остальные ядра не многим хуже. А тогда, получается, от ядра особо то ничего и не зависит, раз они все примерно одинаковые с точки зрения минимизации $MISE$."
   ]
  },
  {
   "cell_type": "markdown",
   "metadata": {},
   "source": [
    "---"
   ]
  },
  {
   "cell_type": "markdown",
   "metadata": {},
   "source": [
    "Давайте напоследок поймем, с какого объема $N$ выборки $X[N]$ можно нашу эмпирическую плотность назвать почти похожей на теоретическую.\n",
    "\n",
    "<br>Мы знаем для ядерных оценок (да и для гистограммы) оценку на разницу жмпирической и (неизвестной) теоретической плотностей.\n",
    "<br>Достаточно правильно было бы считать по $N \\rightarrow +\\infty$  $logloss$ и смотреть, при каком $N$ лучше (хотя и можем переобучнуться). Но это долго и затратно.\n",
    "\n",
    "<br>Даже, по всей видимости, можно сказать больше: оптимально предположить какое-то распределение, запараметризовать его, параметрическими методами найти параметры, а после этого фиксировать $\\epsilon$  и подбирать $N \\ : MISE\\left( \\hat{\\rho_n}(x) \\right) < \\epsilon$ (впервые $< \\epsilon$). Но это для каждого столбца нужно тыкать на бум в функцию распределения, для каждого столбца параметризовать, а потом еще надеяться, что с 1го раза $MISE$ станет маленьким относительно быстро (что означает, что мы правильно угадали и подобрали)."
   ]
  },
  {
   "cell_type": "markdown",
   "metadata": {},
   "source": [
    "В общем, чисто из интуитивных (не подкрепленных теорией) соображений будем считать, что при $N > 1000$ эмпирическую плотность можно считать похожей на теоретическую. И будем восстанавливать плотность только для таких столбцов.\n",
    "\n",
    "Посмотрим сначала, как восстанавливается плотность на одном столбце."
   ]
  },
  {
   "cell_type": "code",
   "execution_count": 23,
   "metadata": {},
   "outputs": [
    {
     "data": {
      "text/plain": [
       "2464"
      ]
     },
     "execution_count": 23,
     "metadata": {},
     "output_type": "execute_result"
    }
   ],
   "source": [
    "train[n_cols_num_not_bad[3]].isnull().sum()"
   ]
  },
  {
   "cell_type": "markdown",
   "metadata": {},
   "source": [
    "Выглядит подходящим экземпляром."
   ]
  },
  {
   "cell_type": "code",
   "execution_count": 24,
   "metadata": {},
   "outputs": [
    {
     "data": {
      "image/png": "[encoded data removed]",
      "text/plain": [
       "<Figure size 1152x576 with 1 Axes>"
      ]
     },
     "metadata": {
      "needs_background": "light"
     },
     "output_type": "display_data"
    }
   ],
   "source": [
    "fig, ax = plt.subplots(nrows=1, ncols=1, figsize=(16, 8))\n",
    "\n",
    "ax.set_title('Distribution of ' + n_cols_num_not_bad[3])\n",
    "ax.set_xlabel(n_cols_num_not_bad[3])\n",
    "\n",
    "sns.distplot(train[n_cols_num_not_bad[3]], color = 'steelblue')\n",
    "plt.show()"
   ]
  },
  {
   "cell_type": "code",
   "execution_count": 25,
   "metadata": {},
   "outputs": [],
   "source": [
    "import math\n",
    "from statsmodels.distributions.empirical_distribution import ECDF\n",
    "from statistics import stdev"
   ]
  },
  {
   "cell_type": "code",
   "execution_count": 26,
   "metadata": {},
   "outputs": [
    {
     "data": {
      "image/png": "[encoded data removed]",
      "text/plain": [
       "<Figure size 432x288 with 1 Axes>"
      ]
     },
     "metadata": {
      "needs_background": "light"
     },
     "output_type": "display_data"
    }
   ],
   "source": [
    "ecdf = ECDF(sns.distplot(train[n_cols_num_not_bad[3]]).get_lines()[0].get_data()[0])"
   ]
  },
  {
   "cell_type": "code",
   "execution_count": 27,
   "metadata": {},
   "outputs": [
    {
     "name": "stdout",
     "output_type": "stream",
     "text": [
      "P(x<0.1): 0.330\n",
      "P(x<0.2): 0.550\n",
      "P(x<0.3): 0.770\n"
     ]
    }
   ],
   "source": [
    "print('P(x<0.1): %.3f' % ecdf(0.1))\n",
    "print('P(x<0.2): %.3f' % ecdf(0.2))\n",
    "print('P(x<0.3): %.3f' % ecdf(0.3))"
   ]
  },
  {
   "cell_type": "markdown",
   "metadata": {},
   "source": [
    "Хммм, вероятности то, вероятно, эта штука и выдает разумные, но как генерировать то новые данные, а не подставлять значения..\n",
    "\n",
    "<br>Напишем руками написать эмпирическую плотность."
   ]
  },
  {
   "cell_type": "code",
   "execution_count": 28,
   "metadata": {},
   "outputs": [],
   "source": [
    "def h_bin(x):\n",
    "    \n",
    "    return math.pow(4/3, 1/5) * min(stdev(x), sp.stats.iqr(x) / 1.34) * math.pow(len(x), -1/5)\n",
    "\n",
    "\n",
    "def gauss_kernel(x):\n",
    "    \n",
    "    return 1 / math.sqrt(2 * math.pi) * math.exp(-math.pow(x, 2) / 2)\n",
    "\n",
    "\n",
    "def empirical_density(sample, values,\n",
    "                      density_probs):\n",
    "    density_probs = []\n",
    "    h = h_bin(sample)\n",
    "    \n",
    "    for j in range(len(values)):\n",
    "        rho_j = 0\n",
    "        \n",
    "        for i in range(len(sample)):\n",
    "            K_j = gauss_kernel((values[j] - sample[i]) / h)\n",
    "            rho_j += K_j\n",
    "            \n",
    "        rho_j = 1 / (len(sample) * h)\n",
    "        density_probs.append(rho_j)\n",
    "        \n",
    "    \n",
    "    return density_probs"
   ]
  },
  {
   "cell_type": "markdown",
   "metadata": {},
   "source": [
    "Так, Я ТУТ ПОНЯЛ, что написал эмпирическую плотность, а она возвращает **вероятности**, а мне **значения** нужны, которые я как раз зачем-то передаю 2м аргументом (values). Сейчаааасс.. А когда тогда генерятся выборки из распределений разных?\n",
    "\n",
    "Вот у меня есть $U(0, 1)$ распределение, как мне выборку из него нагенерить? Не в плане библиотеки, а дайте принцип, метод или формулу. А то я сейчас запутался.. *Вероятности по значениям* то я могу  получать, а вот *значения из распределения* как получать?"
   ]
  },
  {
   "cell_type": "markdown",
   "metadata": {},
   "source": [
    "Кажется, пора спать. И минус много времени.. уфф"
   ]
  },
  {
   "cell_type": "markdown",
   "metadata": {},
   "source": [
    "Вот пошел, и через 5 минут понял, что я очень вовремя (сарказм) сформулировал математически задачу, которую затеял:\n",
    "<br>мне нужно, на самом деле, восстановить функцию распределения, обратить ее и нагенерить по обратной функции выборку,\n",
    "<br>а я восстановил плотность. Ну, интегралы брать мы уже не будем, как и обращать."
   ]
  },
  {
   "cell_type": "markdown",
   "metadata": {},
   "source": [
    "Если честно, по-видимому, тут все столбцы из $[0; 1]$. Такое можно интерпретировать как вероятности, а вероятности я уже умею генерировать.\n",
    "\n",
    "Еще нагуглил Copula -- апргрейженная моя идея, по-видимому, восстановления плотности и генерации выборки на ее основе."
   ]
  },
  {
   "cell_type": "markdown",
   "metadata": {},
   "source": [
    "---"
   ]
  }
 ],
 "metadata": {
  "kernelspec": {
   "display_name": "Python 3",
   "language": "python",
   "name": "python3"
  },
  "language_info": {
   "codemirror_mode": {
    "name": "ipython",
    "version": 3
   },
   "file_extension": ".py",
   "mimetype": "text/x-python",
   "name": "python",
   "nbconvert_exporter": "python",
   "pygments_lexer": "ipython3",
   "version": "3.8.3"
  }
 },
 "nbformat": 4,
 "nbformat_minor": 4
}
